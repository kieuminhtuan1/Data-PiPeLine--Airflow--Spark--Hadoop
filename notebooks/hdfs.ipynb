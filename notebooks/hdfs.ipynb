{
 "cells": [
  {
   "cell_type": "code",
   "execution_count": 1,
   "id": "4fb1a026-6aff-4725-8bce-30cef309afcc",
   "metadata": {},
   "outputs": [
    {
     "name": "stdout",
     "output_type": "stream",
     "text": [
      "Collecting hdfs\n",
      "  Downloading hdfs-2.7.3.tar.gz (43 kB)\n",
      "\u001b[2K     \u001b[90m━━━━━━━━━━━━━━━━━━━━━━━━━━━━━━━━━━━━━━━\u001b[0m \u001b[32m43.5/43.5 kB\u001b[0m \u001b[31m620.1 kB/s\u001b[0m eta \u001b[36m0:00:00\u001b[0ma \u001b[36m0:00:01\u001b[0m\n",
      "\u001b[?25h  Preparing metadata (setup.py) ... \u001b[?25ldone\n",
      "\u001b[?25hCollecting docopt\n",
      "  Downloading docopt-0.6.2.tar.gz (25 kB)\n",
      "  Preparing metadata (setup.py) ... \u001b[?25ldone\n",
      "\u001b[?25hRequirement already satisfied: requests>=2.7.0 in /opt/conda/lib/python3.7/site-packages (from hdfs) (2.28.1)\n",
      "Requirement already satisfied: six>=1.9.0 in /opt/conda/lib/python3.7/site-packages (from hdfs) (1.16.0)\n",
      "Requirement already satisfied: certifi>=2017.4.17 in /opt/conda/lib/python3.7/site-packages (from requests>=2.7.0->hdfs) (2022.9.24)\n",
      "Requirement already satisfied: urllib3<1.27,>=1.21.1 in /opt/conda/lib/python3.7/site-packages (from requests>=2.7.0->hdfs) (1.26.11)\n",
      "Requirement already satisfied: charset-normalizer<3,>=2 in /opt/conda/lib/python3.7/site-packages (from requests>=2.7.0->hdfs) (2.1.1)\n",
      "Requirement already satisfied: idna<4,>=2.5 in /opt/conda/lib/python3.7/site-packages (from requests>=2.7.0->hdfs) (3.4)\n",
      "Building wheels for collected packages: hdfs, docopt\n",
      "  Building wheel for hdfs (setup.py) ... \u001b[?25ldone\n",
      "\u001b[?25h  Created wheel for hdfs: filename=hdfs-2.7.3-py3-none-any.whl size=34347 sha256=30a44a8d4f30c8b9174177c209a229871ca0a62a139a372cbf39ba4ff24236ad\n",
      "  Stored in directory: /home/jovyan/.cache/pip/wheels/a4/10/df/572595c13daae190b86e10aca0836fd31bc77cf9c4389252c1\n",
      "  Building wheel for docopt (setup.py) ... \u001b[?25ldone\n",
      "\u001b[?25h  Created wheel for docopt: filename=docopt-0.6.2-py2.py3-none-any.whl size=13723 sha256=2a9f29c9e8408ad0b888407f8e288c46b8fa969c883067b749839ecf377b0306\n",
      "  Stored in directory: /home/jovyan/.cache/pip/wheels/72/b0/3f/1d95f96ff986c7dfffe46ce2be4062f38ebd04b506c77c81b9\n",
      "Successfully built hdfs docopt\n",
      "Installing collected packages: docopt, hdfs\n",
      "Successfully installed docopt-0.6.2 hdfs-2.7.3\n"
     ]
    }
   ],
   "source": [
    "!pip install hdfs"
   ]
  },
  {
   "cell_type": "code",
   "execution_count": 2,
   "id": "04f0e6c2-b565-4322-bb3a-acfb743763f5",
   "metadata": {},
   "outputs": [],
   "source": [
    "from hdfs import InsecureClient"
   ]
  },
  {
   "cell_type": "code",
   "execution_count": 3,
   "id": "03cac81b-8482-4eb3-a3ed-92506e9fb0c6",
   "metadata": {},
   "outputs": [],
   "source": [
    "client = InsecureClient('http://namenode:9870', user='root')"
   ]
  },
  {
   "cell_type": "code",
   "execution_count": null,
   "id": "22ff3d08-d1a0-449d-9fb6-692251a95bd6",
   "metadata": {},
   "outputs": [],
   "source": [
    "import os\n",
    "# Upload files to HDFS\n",
    "local_path = '/home/jovyan/data'\n",
    "hdfs_path = '/home_credit/data'\n",
    "\n",
    "# Ensure directory exists\n",
    "client.makedirs(hdfs_path)\n",
    "\n",
    "# Put files into HDFS\n",
    "for filename in os.listdir(local_path):\n",
    "    local_file = os.path.join(local_path, filename)\n",
    "    remote_file = os.path.join(hdfs_path, filename)\n",
    "    client.upload(remote_file, local_file)\n",
    "\n",
    "# List files in the directory\n",
    "files = client.list(hdfs_path)\n",
    "print(files)"
   ]
  },
  {
   "cell_type": "code",
   "execution_count": null,
   "id": "807bd65c",
   "metadata": {},
   "outputs": [],
   "source": []
  }
 ],
 "metadata": {
  "kernelspec": {
   "display_name": "Python 3 (ipykernel)",
   "language": "python",
   "name": "python3"
  },
  "language_info": {
   "codemirror_mode": {
    "name": "ipython",
    "version": 3
   },
   "file_extension": ".py",
   "mimetype": "text/x-python",
   "name": "python",
   "nbconvert_exporter": "python",
   "pygments_lexer": "ipython3",
   "version": "3.11.5"
  }
 },
 "nbformat": 4,
 "nbformat_minor": 5
}
